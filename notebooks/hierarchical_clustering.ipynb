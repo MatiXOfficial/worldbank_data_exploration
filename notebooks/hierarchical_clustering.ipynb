{
 "cells": [
  {
   "cell_type": "code",
   "execution_count": null,
   "outputs": [],
   "source": [
    "# Set project directory\n",
    "import os\n",
    "import sys\n",
    "\n",
    "\n",
    "def project_dir():\n",
    "    notebook_path = %pwd\n",
    "    repo_name = \"worldbank_data_exploration\"\n",
    "    repo_folder = notebook_path.split(repo_name)[0]\n",
    "    return os.path.join(repo_folder, repo_name)\n",
    "\n",
    "\n",
    "pwd = os.getenv(\"PWD\", project_dir())\n",
    "os.environ[\"PWD\"] = pwd\n",
    "sys.path.append(pwd)"
   ],
   "metadata": {
    "collapsed": false,
    "pycharm": {
     "name": "#%%\n"
    }
   }
  },
  {
   "cell_type": "code",
   "execution_count": null,
   "outputs": [],
   "source": [
    "import warnings\n",
    "\n",
    "warnings.simplefilter(\"ignore\", category=UserWarning)\n",
    "warnings.simplefilter(\"ignore\", category=FutureWarning)\n",
    "\n",
    "from data_sources.load_dataset import (\n",
    "    load_time_series,\n",
    "    INDICATORS_SELECTED,\n",
    "    INDICATORS_AGRICULTURE,\n",
    "    INDICATORS_ECONOMY,\n",
    "    INDICATORS_HEALTH,\n",
    "    ALL_INDICATORS,\n",
    ")\n",
    "import matplotlib.pyplot as plt\n",
    "import matplotlib.cm as cm\n",
    "from sklearn.manifold import TSNE\n",
    "from clustering import hierarchical_clustering"
   ],
   "metadata": {
    "collapsed": false,
    "pycharm": {
     "name": "#%%\n"
    }
   }
  },
  {
   "cell_type": "code",
   "execution_count": null,
   "outputs": [],
   "source": [
    "def data_embedded_visualization(data_dict_clustered):\n",
    "    for feature, X in data_dict_clustered.items():\n",
    "        embedded = TSNE(n_components=2, perplexity=20, n_iter=4000).fit_transform(\n",
    "            X[:, :-1]\n",
    "        )\n",
    "        plot_with_names(embedded, countries, X[:, -1], feature)\n",
    "\n",
    "\n",
    "def data_combined_embedded_visualization(data_dict_clustered, title):\n",
    "    embedded = TSNE(n_components=2, perplexity=20, n_iter=4000).fit_transform(\n",
    "        data_dict_clustered[:, :-1]\n",
    "    )\n",
    "    plot_with_names(embedded, countries, data_dict_clustered[:, -1], title)\n",
    "\n",
    "\n",
    "def plot_with_names(X, y, labels, title=None):\n",
    "    plt.figure(figsize=(16, 16))\n",
    "    plt.scatter(X[:, 0], X[:, 1], c=labels, cmap=cm.Set1)\n",
    "    for i in range(X.shape[0]):\n",
    "        plt.annotate(y[i], [X[i, 0], X[i, 1]], size=7.5)\n",
    "    if title is not None:\n",
    "        plt.title(title)\n",
    "    plt.show()"
   ],
   "metadata": {
    "collapsed": false,
    "pycharm": {
     "name": "#%%\n"
    }
   }
  },
  {
   "cell_type": "markdown",
   "source": [
    "# Selected indicators"
   ],
   "metadata": {
    "collapsed": false,
    "pycharm": {
     "name": "#%% md\n"
    }
   }
  },
  {
   "cell_type": "code",
   "execution_count": null,
   "outputs": [],
   "source": [
    "NUMBER_OF_CLUSTERS_SELECTED_INDICATORS = {\n",
    "    \"Access to electricity (% of population)\": 2,\n",
    "    \"Agriculture, forestry, and fishing, value added (% of GDP)\": 2,\n",
    "    \"Exports of goods and services (% of GDP)\": 3,\n",
    "    \"Fertility rate, total (births per woman)\": 2,\n",
    "    \"Forest area (% of land area)\": 2,\n",
    "    \"GDP growth (annual %)\": 3,\n",
    "    \"Inflation, consumer prices (annual %)\": 2,\n",
    "    \"Life expectancy at birth, total (years)\": 2,\n",
    "    \"Merchandise trade (% of GDP)\": 2,\n",
    "    \"Military expenditure (% of GDP)\": 3,\n",
    "    \"Mortality rate, under-5 (per 1,000 live births)\": 2,\n",
    "    \"Population growth (annual %)\": 2,\n",
    "    \"Population in the largest city (% of urban population)\": 2,\n",
    "    \"Total natural resources rents (% of GDP)\": 2,\n",
    "    \"Unemployment, total (% of total labor force) (modeled ILO estimate)\": 3,\n",
    "}\n",
    "\n",
    "NUMBER_OF_CLUSTERS_SELECTED_INDICATORS_EXTRACTION = {\n",
    "    \"Access to electricity (% of population)\": 2,\n",
    "    \"Agriculture, forestry, and fishing, value added (% of GDP)\": 3,\n",
    "    \"Exports of goods and services (% of GDP)\": 2,\n",
    "    \"Fertility rate, total (births per woman)\": 2,\n",
    "    \"Forest area (% of land area)\": 3,\n",
    "    \"GDP growth (annual %)\": 3,\n",
    "    \"Inflation, consumer prices (annual %)\": 4,\n",
    "    \"Life expectancy at birth, total (years)\": 3,\n",
    "    \"Merchandise trade (% of GDP)\": 3,\n",
    "    \"Military expenditure (% of GDP)\": 4,\n",
    "    \"Mortality rate, under-5 (per 1,000 live births)\": 2,\n",
    "    \"Population growth (annual %)\": 3,\n",
    "    \"Population in the largest city (% of urban population)\": 3,\n",
    "    \"Total natural resources rents (% of GDP)\": 5,\n",
    "    \"Unemployment, total (% of total labor force) (modeled ILO estimate)\": 4,\n",
    "}\n",
    "\n",
    "NUMBER_OF_CLUSTERS_SELECTED_INDICATORS_COMBINED = 2\n",
    "NUMBER_OF_CLUSTERS_SELECTED_INDICATORS_COMBINED_EXTRACTION = 3\n",
    "\n",
    "selected_indicators_dict, countries, years = load_time_series(\n",
    "    indicators=INDICATORS_SELECTED, years=slice(2000, 2020)\n",
    ")"
   ],
   "metadata": {
    "collapsed": false,
    "pycharm": {
     "name": "#%%\n"
    }
   }
  },
  {
   "cell_type": "markdown",
   "source": [
    "## Each indicator separately - no feature extraction"
   ],
   "metadata": {
    "collapsed": false,
    "pycharm": {
     "name": "#%% md\n"
    }
   }
  },
  {
   "cell_type": "code",
   "execution_count": null,
   "outputs": [],
   "source": [
    "linkage_matrices = hierarchical_clustering.dendrogram_each_feature(\n",
    "    selected_indicators_dict\n",
    ")\n",
    "selected_indicators_clustered = hierarchical_clustering.cluster_each_feature(\n",
    "    selected_indicators_dict, linkage_matrices, NUMBER_OF_CLUSTERS_SELECTED_INDICATORS\n",
    ")"
   ],
   "metadata": {
    "collapsed": false,
    "pycharm": {
     "name": "#%%\n"
    }
   }
  },
  {
   "cell_type": "code",
   "execution_count": null,
   "outputs": [],
   "source": [
    "data_embedded_visualization(selected_indicators_clustered)"
   ],
   "metadata": {
    "collapsed": false,
    "pycharm": {
     "name": "#%%\n"
    }
   }
  },
  {
   "cell_type": "markdown",
   "source": [],
   "metadata": {
    "collapsed": false,
    "pycharm": {
     "name": "#%% md\n"
    }
   }
  },
  {
   "cell_type": "markdown",
   "source": [
    "## Each indicator separately - with feature extraction"
   ],
   "metadata": {
    "collapsed": false,
    "pycharm": {
     "name": "#%% md\n"
    }
   }
  },
  {
   "cell_type": "code",
   "execution_count": null,
   "outputs": [],
   "source": [
    "linkage_matrices = hierarchical_clustering.dendrogram_each_feature(\n",
    "    selected_indicators_dict, feature_extraction=True\n",
    ")\n",
    "selected_indicators_clustered_extraction = hierarchical_clustering.cluster_each_feature(\n",
    "    selected_indicators_dict,\n",
    "    linkage_matrices,\n",
    "    NUMBER_OF_CLUSTERS_SELECTED_INDICATORS_EXTRACTION,\n",
    ")"
   ],
   "metadata": {
    "collapsed": false,
    "pycharm": {
     "name": "#%%\n"
    }
   }
  },
  {
   "cell_type": "code",
   "execution_count": null,
   "outputs": [],
   "source": [
    "data_embedded_visualization(selected_indicators_clustered_extraction)"
   ],
   "metadata": {
    "collapsed": false,
    "pycharm": {
     "name": "#%%\n"
    }
   }
  },
  {
   "cell_type": "markdown",
   "source": [
    "## Combined indicators - no feature extraction"
   ],
   "metadata": {
    "collapsed": false,
    "pycharm": {
     "name": "#%% md\n"
    }
   }
  },
  {
   "cell_type": "code",
   "execution_count": null,
   "outputs": [],
   "source": [
    "linkage_matrix, y_all = hierarchical_clustering.dendrogram_features_combined(\n",
    "    selected_indicators_dict, \"Selected indicators combined\"\n",
    ")"
   ],
   "metadata": {
    "collapsed": false,
    "pycharm": {
     "name": "#%%\n"
    }
   }
  },
  {
   "cell_type": "code",
   "execution_count": null,
   "outputs": [],
   "source": [
    "selected_indicators_combined_clustered = (\n",
    "    hierarchical_clustering.cluster_combined_features(\n",
    "        y_all, linkage_matrix, NUMBER_OF_CLUSTERS_SELECTED_INDICATORS_COMBINED\n",
    "    )\n",
    ")\n",
    "data_combined_embedded_visualization(\n",
    "    selected_indicators_combined_clustered, \"Selected indicators combined\"\n",
    ")"
   ],
   "metadata": {
    "collapsed": false,
    "pycharm": {
     "name": "#%%\n"
    }
   }
  },
  {
   "cell_type": "markdown",
   "source": [
    "## Combined indicators - with feature extraction"
   ],
   "metadata": {
    "collapsed": false,
    "pycharm": {
     "name": "#%% md\n"
    }
   }
  },
  {
   "cell_type": "code",
   "execution_count": null,
   "outputs": [],
   "source": [
    "linkage_matrix, y_all = hierarchical_clustering.dendrogram_features_combined(\n",
    "    selected_indicators_dict,\n",
    "    \"Selected indicators combined - with feature extraction\",\n",
    "    feature_extraction=True,\n",
    ")"
   ],
   "metadata": {
    "collapsed": false,
    "pycharm": {
     "name": "#%%\n"
    }
   }
  },
  {
   "cell_type": "code",
   "execution_count": null,
   "outputs": [],
   "source": [
    "selected_indicators_combined_clustered = (\n",
    "    hierarchical_clustering.cluster_combined_features(\n",
    "        y_all,\n",
    "        linkage_matrix,\n",
    "        NUMBER_OF_CLUSTERS_SELECTED_INDICATORS_COMBINED_EXTRACTION,\n",
    "    )\n",
    ")\n",
    "data_combined_embedded_visualization(\n",
    "    selected_indicators_combined_clustered, \"Selected indicators combined\"\n",
    ")"
   ],
   "metadata": {
    "collapsed": false,
    "pycharm": {
     "name": "#%%\n"
    }
   }
  },
  {
   "cell_type": "markdown",
   "source": [
    "# Agriculture indicators"
   ],
   "metadata": {
    "collapsed": false,
    "pycharm": {
     "name": "#%% md\n"
    }
   }
  },
  {
   "cell_type": "code",
   "execution_count": null,
   "outputs": [],
   "source": [
    "NUMBER_OF_CLUSTERS_AGRICULTURE_INDICATORS = {\n",
    "    \"Agricultural land (% of land area)\": 2,\n",
    "    \"Agriculture, forestry, and fishing, value added (% of GDP)\": 2,\n",
    "    \"Arable land (% of land area)\": 2,\n",
    "    \"Arable land (hectares per person)\": 2,\n",
    "    \"Cereal yield (kg per hectare)\": 3,\n",
    "    \"Crop production index (2014-2016 = 100)\": 2,\n",
    "    \"Employment in agriculture, female (% of female employment) (modeled ILO estimate)\": 2,\n",
    "    \"Employment in agriculture, male (% of male employment) (modeled ILO estimate)\": 2,\n",
    "    \"Fertilizer consumption (kilograms per hectare of arable land)\": 2,\n",
    "    \"Food production index (2014-2016 = 100)\": 2,\n",
    "    \"Forest area (% of land area)\": 2,\n",
    "    \"Livestock production index (2014-2016 = 100)\": 2,\n",
    "    \"Permanent cropland (% of land area)\": 2,\n",
    "    \"Rural population (% of total population)\": 2,\n",
    "}\n",
    "\n",
    "NUMBER_OF_CLUSTERS_AGRICULTURE_INDICATORS_COMBINED = 2\n",
    "\n",
    "agriculture_indicators_dict, countries, years = load_time_series(\n",
    "    indicators=INDICATORS_AGRICULTURE\n",
    ")"
   ],
   "metadata": {
    "collapsed": false,
    "pycharm": {
     "name": "#%%\n"
    }
   }
  },
  {
   "cell_type": "markdown",
   "source": [
    "## Each indicator separately - no feature extraction"
   ],
   "metadata": {
    "collapsed": false,
    "pycharm": {
     "name": "#%% md\n"
    }
   }
  },
  {
   "cell_type": "code",
   "execution_count": null,
   "outputs": [],
   "source": [
    "linkage_matrices = hierarchical_clustering.dendrogram_each_feature(\n",
    "    agriculture_indicators_dict\n",
    ")\n",
    "agriculture_indicators_clustered = hierarchical_clustering.cluster_each_feature(\n",
    "    agriculture_indicators_dict,\n",
    "    linkage_matrices,\n",
    "    NUMBER_OF_CLUSTERS_AGRICULTURE_INDICATORS,\n",
    ")"
   ],
   "metadata": {
    "collapsed": false,
    "pycharm": {
     "name": "#%%\n"
    }
   }
  },
  {
   "cell_type": "code",
   "execution_count": null,
   "outputs": [],
   "source": [
    "data_embedded_visualization(agriculture_indicators_clustered)"
   ],
   "metadata": {
    "collapsed": false,
    "pycharm": {
     "name": "#%%\n"
    }
   }
  },
  {
   "cell_type": "markdown",
   "source": [
    "## Combined indicators - no feature extraction"
   ],
   "metadata": {
    "collapsed": false,
    "pycharm": {
     "name": "#%% md\n"
    }
   }
  },
  {
   "cell_type": "code",
   "execution_count": null,
   "outputs": [],
   "source": [
    "linkage_matrix, y_all = hierarchical_clustering.dendrogram_features_combined(\n",
    "    agriculture_indicators_dict, \"Agriculture indicators combined\"\n",
    ")"
   ],
   "metadata": {
    "collapsed": false,
    "pycharm": {
     "name": "#%%\n"
    }
   }
  },
  {
   "cell_type": "code",
   "execution_count": null,
   "outputs": [],
   "source": [
    "agriculture_indicators_combined_clustered = (\n",
    "    hierarchical_clustering.cluster_combined_features(\n",
    "        y_all, linkage_matrix, NUMBER_OF_CLUSTERS_AGRICULTURE_INDICATORS_COMBINED\n",
    "    )\n",
    ")\n",
    "data_combined_embedded_visualization(\n",
    "    selected_indicators_combined_clustered, \"Agriculture indicators combined\"\n",
    ")"
   ],
   "metadata": {
    "collapsed": false,
    "pycharm": {
     "name": "#%%\n"
    }
   }
  },
  {
   "cell_type": "markdown",
   "source": [
    "# Health indicators"
   ],
   "metadata": {
    "collapsed": false,
    "pycharm": {
     "name": "#%% md\n"
    }
   }
  },
  {
   "cell_type": "code",
   "execution_count": null,
   "outputs": [],
   "source": [
    "NUMBER_OF_CLUSTERS_HEALTH_INDICATORS = {\n",
    "    \"Adolescent fertility rate (births per 1,000 women ages 15-19)\": 2,\n",
    "    \"Age dependency ratio (% of working-age population)\": 2,\n",
    "    \"Birth rate, crude (per 1,000 people)\": 2,\n",
    "    \"Death rate, crude (per 1,000 people)\": 2,\n",
    "    \"Fertility rate, total (births per woman)\": 2,\n",
    "    \"Immunization, DPT (% of children ages 12-23 months)\": 2,\n",
    "    \"Immunization, measles (% of children ages 12-23 months)\": 2,\n",
    "    \"Incidence of tuberculosis (per 100,000 people)\": 2,\n",
    "    \"Life expectancy at birth, total (years)\": 2,\n",
    "    \"Mortality rate, under-5 (per 1,000 live births)\": 2,\n",
    "    \"Population growth (annual %)\": 2,\n",
    "    \"Prevalence of undernourishment (% of population)\": 2,\n",
    "}\n",
    "\n",
    "NUMBER_OF_CLUSTERS_HEALTH_INDICATORS_COMBINED = 3\n",
    "\n",
    "health_indicators_dict, countries, years = load_time_series(\n",
    "    indicators=INDICATORS_HEALTH\n",
    ")"
   ],
   "metadata": {
    "collapsed": false,
    "pycharm": {
     "name": "#%%\n"
    }
   }
  },
  {
   "cell_type": "markdown",
   "source": [
    "## Each indicator separately - no feature extraction"
   ],
   "metadata": {
    "collapsed": false,
    "pycharm": {
     "name": "#%% md\n"
    }
   }
  },
  {
   "cell_type": "code",
   "execution_count": null,
   "outputs": [],
   "source": [
    "linkage_matrices = hierarchical_clustering.dendrogram_each_feature(\n",
    "    health_indicators_dict\n",
    ")\n",
    "health_indicators_clustered = hierarchical_clustering.cluster_each_feature(\n",
    "    health_indicators_dict, linkage_matrices, NUMBER_OF_CLUSTERS_HEALTH_INDICATORS\n",
    ")"
   ],
   "metadata": {
    "collapsed": false,
    "pycharm": {
     "name": "#%%\n"
    }
   }
  },
  {
   "cell_type": "code",
   "execution_count": null,
   "outputs": [],
   "source": [
    "data_embedded_visualization(health_indicators_clustered)"
   ],
   "metadata": {
    "collapsed": false,
    "pycharm": {
     "name": "#%%\n"
    }
   }
  },
  {
   "cell_type": "markdown",
   "source": [
    "## Combined indicators - no feature extraction"
   ],
   "metadata": {
    "collapsed": false,
    "pycharm": {
     "name": "#%% md\n"
    }
   }
  },
  {
   "cell_type": "code",
   "execution_count": null,
   "outputs": [],
   "source": [
    "linkage_matrix, y_all = hierarchical_clustering.dendrogram_features_combined(\n",
    "    health_indicators_dict, \"Health indicators combined\"\n",
    ")"
   ],
   "metadata": {
    "collapsed": false,
    "pycharm": {
     "name": "#%%\n"
    }
   }
  },
  {
   "cell_type": "code",
   "execution_count": null,
   "outputs": [],
   "source": [
    "health_indicators_combined_clustered = (\n",
    "    hierarchical_clustering.cluster_combined_features(\n",
    "        y_all, linkage_matrix, NUMBER_OF_CLUSTERS_HEALTH_INDICATORS_COMBINED\n",
    "    )\n",
    ")\n",
    "data_combined_embedded_visualization(\n",
    "    selected_indicators_combined_clustered, \"Health indicators combined\"\n",
    ")"
   ],
   "metadata": {
    "collapsed": false,
    "pycharm": {
     "name": "#%%\n"
    }
   }
  },
  {
   "cell_type": "markdown",
   "source": [
    "# Economy indicators"
   ],
   "metadata": {
    "collapsed": false,
    "pycharm": {
     "name": "#%% md\n"
    }
   }
  },
  {
   "cell_type": "code",
   "execution_count": null,
   "outputs": [],
   "source": [
    "NUMBER_OF_CLUSTERS_ECONOMY_INDICATORS = {\n",
    "    \"Agriculture, forestry, and fishing, value added (% of GDP)\": 2,\n",
    "    \"Exports of goods and services (% of GDP)\": 2,\n",
    "    \"GDP growth (annual %)\": 3,\n",
    "    \"GDP per capita (current US$)\": 2,\n",
    "    \"GNI per capita, Atlas method (current US$)\": 2,\n",
    "    \"Gross capital formation (% of GDP)\": 2,\n",
    "    \"Gross savings (% of GDP)\": 2,\n",
    "    \"Imports of goods and services (% of GDP)\": 2,\n",
    "    \"Industry (including construction), value added (% of GDP)\": 2,\n",
    "    \"Inflation, GDP deflator (annual %)\": 2,\n",
    "    \"Inflation, consumer prices (annual %)\": 2,\n",
    "    \"Medium and high-tech manufacturing value added (% manufacturing value added)\": 2,\n",
    "}\n",
    "\n",
    "NUMBER_OF_CLUSTERS_ECONOMY_INDICATORS_COMBINED = 2\n",
    "\n",
    "economy_indicators_dict, countries, years = load_time_series(\n",
    "    indicators=INDICATORS_ECONOMY\n",
    ")"
   ],
   "metadata": {
    "collapsed": false,
    "pycharm": {
     "name": "#%%\n"
    }
   }
  },
  {
   "cell_type": "markdown",
   "source": [
    "## Each indicator separately - no feature extraction"
   ],
   "metadata": {
    "collapsed": false,
    "pycharm": {
     "name": "#%% md\n"
    }
   }
  },
  {
   "cell_type": "code",
   "execution_count": null,
   "outputs": [],
   "source": [
    "linkage_matrices = hierarchical_clustering.dendrogram_each_feature(\n",
    "    economy_indicators_dict\n",
    ")\n",
    "economy_indicators_clustered = hierarchical_clustering.cluster_each_feature(\n",
    "    economy_indicators_dict, linkage_matrices, NUMBER_OF_CLUSTERS_ECONOMY_INDICATORS\n",
    ")"
   ],
   "metadata": {
    "collapsed": false,
    "pycharm": {
     "name": "#%%\n"
    }
   }
  },
  {
   "cell_type": "code",
   "execution_count": null,
   "outputs": [],
   "source": [
    "data_embedded_visualization(economy_indicators_clustered)"
   ],
   "metadata": {
    "collapsed": false,
    "pycharm": {
     "name": "#%%\n"
    }
   }
  },
  {
   "cell_type": "markdown",
   "source": [
    "## Combined indictors - no feature extraction"
   ],
   "metadata": {
    "collapsed": false,
    "pycharm": {
     "name": "#%% md\n"
    }
   }
  },
  {
   "cell_type": "code",
   "execution_count": null,
   "outputs": [],
   "source": [
    "linkage_matrix, y_all = hierarchical_clustering.dendrogram_features_combined(\n",
    "    economy_indicators_dict, \"Economy indicators combined\"\n",
    ")"
   ],
   "metadata": {
    "collapsed": false,
    "pycharm": {
     "name": "#%%\n"
    }
   }
  },
  {
   "cell_type": "code",
   "execution_count": null,
   "outputs": [],
   "source": [
    "economy_indicators_combined_clustered = (\n",
    "    hierarchical_clustering.cluster_combined_features(\n",
    "        y_all, linkage_matrix, NUMBER_OF_CLUSTERS_ECONOMY_INDICATORS_COMBINED\n",
    "    )\n",
    ")\n",
    "data_combined_embedded_visualization(\n",
    "    economy_indicators_combined_clustered, \"Economy indicators combined\"\n",
    ")"
   ],
   "metadata": {
    "collapsed": false,
    "pycharm": {
     "name": "#%%\n"
    }
   }
  },
  {
   "cell_type": "markdown",
   "source": [
    "# All indcitaors"
   ],
   "metadata": {
    "collapsed": false,
    "pycharm": {
     "name": "#%% md\n"
    }
   }
  },
  {
   "cell_type": "code",
   "execution_count": null,
   "outputs": [],
   "source": [
    "NUMBER_OF_CLUSTERS_ALL_INDICATORS_COMBINED = 2\n",
    "\n",
    "all_indicators_dict, countries, years = load_time_series(indicators=ALL_INDICATORS)"
   ],
   "metadata": {
    "collapsed": false,
    "pycharm": {
     "name": "#%%\n"
    }
   }
  },
  {
   "cell_type": "code",
   "execution_count": null,
   "outputs": [],
   "source": [
    "linkage_matrix, y_all = hierarchical_clustering.dendrogram_features_combined(\n",
    "    all_indicators_dict, \"All indicators combined\"\n",
    ")"
   ],
   "metadata": {
    "collapsed": false,
    "pycharm": {
     "name": "#%%\n"
    }
   }
  },
  {
   "cell_type": "code",
   "execution_count": null,
   "outputs": [],
   "source": [
    "all_indicators_combined_clustered = hierarchical_clustering.cluster_combined_features(\n",
    "    y_all, linkage_matrix, NUMBER_OF_CLUSTERS_ECONOMY_INDICATORS_COMBINED\n",
    ")\n",
    "data_combined_embedded_visualization(\n",
    "    all_indicators_combined_clustered, \"All indicators combined\"\n",
    ")"
   ],
   "metadata": {
    "collapsed": false,
    "pycharm": {
     "name": "#%%\n"
    }
   }
  },
  {
   "cell_type": "code",
   "execution_count": null,
   "outputs": [],
   "source": [],
   "metadata": {
    "collapsed": false,
    "pycharm": {
     "name": "#%%\n"
    }
   }
  }
 ],
 "metadata": {
  "kernelspec": {
   "display_name": "Python 3 (ipykernel)",
   "language": "python",
   "name": "python3"
  },
  "language_info": {
   "codemirror_mode": {
    "name": "ipython",
    "version": 3
   },
   "file_extension": ".py",
   "mimetype": "text/x-python",
   "name": "python",
   "nbconvert_exporter": "python",
   "pygments_lexer": "ipython3",
   "version": "3.8.10"
  }
 },
 "nbformat": 4,
 "nbformat_minor": 1
}